{
  "cells": [
    {
      "cell_type": "markdown",
      "metadata": {
        "id": "alRi2Rm_upUp"
      },
      "source": [
        "# **Basic Keras-Tensorflow Tutorial**"
      ]
    },
    {
      "cell_type": "markdown",
      "metadata": {
        "id": "35yn-zhl1oVk"
      },
      "source": [
        "**Course**: *CS671 - Deep Learning & Applications*\n",
        "\n",
        "**Instructor**: *Prof. Dileep A.D.*\n",
        "\n",
        "**Tutorial by**: *Rajesh R (S21005)* | **Date**: 10 March 2023\n",
        "\n",
        "**Reference**: *https://keras.io/*"
      ]
    },
    {
      "cell_type": "markdown",
      "metadata": {
        "id": "2etgsEbuu5w2"
      },
      "source": [
        "## **First Things First**"
      ]
    },
    {
      "cell_type": "markdown",
      "metadata": {
        "id": "YKWxmpysyMtk"
      },
      "source": [
        "**Installing Tensorflow**:\n",
        "Using conda environment is recommended\n",
        "*   `conda install -c conda-forge tensorflow` \n",
        "*   `conda install -c anaconda tensorflow-gpu` (if you have GPU)\n",
        "\n",
        "**In colab**:\n",
        "\n",
        "Tensorflow is preinstalled on the server. To use the specific version:\n",
        "\n",
        "`!pip uninstall tensorflow`\n",
        "\n",
        "`!pip install tensorflow==2.11.0`"
      ]
    },
    {
      "cell_type": "code",
      "execution_count": null,
      "metadata": {
        "colab": {
          "base_uri": "https://localhost:8080/"
        },
        "id": "zEbsQJLEu2CC",
        "outputId": "6bb54ffe-60c5-43c4-8582-ce9505885c87"
      },
      "outputs": [
        {
          "name": "stdout",
          "output_type": "stream",
          "text": [
            "2.11.0\n"
          ]
        }
      ],
      "source": [
        "import tensorflow as tf\n",
        "print(tf.__version__)"
      ]
    },
    {
      "cell_type": "markdown",
      "metadata": {
        "id": "3V38BLG8xbiK"
      },
      "source": [
        "## **Ways To Create Model**"
      ]
    },
    {
      "cell_type": "markdown",
      "metadata": {
        "id": "TIRFczk7ya6X"
      },
      "source": [
        "\n",
        "\n",
        "*Keras offers three ways to create the neural network models:*\n",
        "\n",
        "1.   *Sequential API* *(Beginners)*\n",
        "2.   *Functional API* *(Intermediate)*\n",
        "3.   *Model Subclassing* *(Experts)*\n",
        " "
      ]
    },
    {
      "cell_type": "markdown",
      "metadata": {
        "id": "cWKnONegzDwE"
      },
      "source": [
        "### **Sequential API**"
      ]
    },
    {
      "cell_type": "markdown",
      "metadata": {
        "id": "r58qIdhQzKHo"
      },
      "source": [
        "*A Sequential model is appropriate for a plain stack of layers where each layer has exactly one input tensor and one output tensor*\n",
        "\n",
        "*A Sequential model is not appropriate when:*\n",
        "*   *Your model has multiple inputs or multiple outputs*\n",
        "*   *Any of your layers has multiple inputs or multiple outputs*\n",
        "*   *You need to do layer sharing*\n",
        "*   *You want non-linear topology (e.g. a residual connection, a multi-branch model)*\n"
      ]
    },
    {
      "cell_type": "code",
      "execution_count": null,
      "metadata": {
        "id": "9OvGHptE4iSi"
      },
      "outputs": [],
      "source": [
        "import tensorflow as tf\n",
        "from tensorflow import keras\n",
        "from tensorflow.keras import layers"
      ]
    },
    {
      "cell_type": "markdown",
      "metadata": {
        "id": "SBpWGH8Q5fOy"
      },
      "source": [
        "*You can create a Sequential model by passing a list of layers to the Sequential constructor:*"
      ]
    },
    {
      "cell_type": "code",
      "execution_count": null,
      "metadata": {
        "id": "ZqGxKWG0u1_Y"
      },
      "outputs": [],
      "source": [
        "model = keras.Sequential([\n",
        "        layers.Dense(10, activation=\"sigmoid\", name=\"layer1\"),\n",
        "        layers.Dense(10, activation=\"sigmoid\", name=\"layer2\"),\n",
        "        layers.Dense(2, activation=\"softmax\", name=\"output\"),\n",
        "        ])"
      ]
    },
    {
      "cell_type": "markdown",
      "metadata": {
        "id": "e_7alKfu5lYc"
      },
      "source": [
        "*You can also create a Sequential model incrementally via the add() method:*"
      ]
    },
    {
      "cell_type": "code",
      "execution_count": null,
      "metadata": {
        "id": "6jbvGATvu18i"
      },
      "outputs": [],
      "source": [
        "model = keras.Sequential()\n",
        "model.add(layers.Dense(10, activation=\"sigmoid\", name=\"layer1\"))\n",
        "model.add(layers.Dense(10, activation=\"sigmoid\", name=\"layer2\"))\n",
        "model.add(layers.Dense(2, activation=\"softmax\", name=\"output\"))"
      ]
    },
    {
      "cell_type": "markdown",
      "metadata": {
        "id": "DgZTA7hWEwxn"
      },
      "source": [
        "### **Functional API**"
      ]
    },
    {
      "cell_type": "markdown",
      "metadata": {
        "id": "jQ7VSig1E43A"
      },
      "source": [
        "*   *Can handles non-linear models with more functionalities than Sequential API*\n",
        "\n",
        "*   *Accepts multiple inputs and multiple outputs*\n",
        "\n",
        "*   *Can model highly complex networks*\n",
        "\n",
        "*   *Extremely scalable and flexible*"
      ]
    },
    {
      "cell_type": "code",
      "execution_count": null,
      "metadata": {
        "id": "_KIvNIwNGzTr"
      },
      "outputs": [],
      "source": [
        "import tensorflow as tf\n",
        "from tensorflow import keras\n",
        "from tensorflow.keras.models import Model\n",
        "from tensorflow.keras.layers import Input, Dense"
      ]
    },
    {
      "cell_type": "code",
      "execution_count": null,
      "metadata": {
        "id": "u1Aea-Fyu15v"
      },
      "outputs": [],
      "source": [
        "inputs = Input(shape=(3,))\n",
        "\n",
        "x = Dense(10, activation='sigmoid')(inputs)\n",
        "x = Dense(10, activation='sigmoid')(x)\n",
        "\n",
        "outputs = Dense(2, activation='softmax')(x)\n",
        "\n",
        "model = Model(inputs=inputs, outputs=outputs)"
      ]
    },
    {
      "cell_type": "markdown",
      "metadata": {
        "id": "uJB2vtDAIIRv"
      },
      "source": [
        "*Autoencoders, Enocoder-Decoder Architecture*"
      ]
    },
    {
      "cell_type": "code",
      "execution_count": null,
      "metadata": {
        "id": "Tm6GgeYOu12k"
      },
      "outputs": [],
      "source": [
        "inputs = Input(shape=(3,))\n",
        "\n",
        "l1 = Dense(20, activation='sigmoid')(inputs)\n",
        "l2 = Dense(10, activation='sigmoid')(l1)\n",
        "l3 = Dense(5, activation='sigmoid')(l2)\n",
        "l4 = Dense(10, activation='sigmoid')(l3)\n",
        "outputs = Dense(20, activation='sigmoid')(l4)\n",
        "\n",
        "full_model = Model(inputs=inputs, outputs=outputs)\n",
        "encoder = Model(inputs=inputs, outputs=l3)\n",
        "decoder = Model(inputs=l3, outputs=outputs)"
      ]
    },
    {
      "cell_type": "markdown",
      "metadata": {
        "id": "4So_v9juI4wT"
      },
      "source": [
        "### **Model Subclassing**"
      ]
    },
    {
      "cell_type": "markdown",
      "metadata": {
        "id": "5RRUI5yGLYFd"
      },
      "source": [
        "*   *Object oriented approach to create the model*\n",
        "*   *More powerful than Functional API*\n",
        "*   *Should define layers in `__init__()` and should implement the model's forward pass in `call()`*\n",
        "*   *Can optionally have a training argument (boolean) in `call()`, which can be used to specify a different behavior in training and inference*\n",
        "*   *Example: Can set certain weights within a layer to be non-trainable, etc*\n",
        "\n"
      ]
    },
    {
      "cell_type": "code",
      "execution_count": null,
      "metadata": {
        "id": "mgJ1OOz0I4dW"
      },
      "outputs": [],
      "source": [
        "import tensorflow as tf"
      ]
    },
    {
      "cell_type": "code",
      "execution_count": null,
      "metadata": {
        "id": "__6dvlURI4bM"
      },
      "outputs": [],
      "source": [
        "class MyModel(tf.keras.Model):\n",
        "\n",
        "  def __init__(self):\n",
        "    super().__init__()\n",
        "    self.dense1 = tf.keras.layers.Dense(10, activation=tf.nn.relu)\n",
        "    self.dense2 = tf.keras.layers.Dense(10, activation=tf.nn.softmax)\n",
        "    self.dropout = tf.keras.layers.Dropout(0.5)\n",
        "\n",
        "  def call(self, inputs, training=False):\n",
        "    x = self.dense1(inputs)\n",
        "    if training:\n",
        "      x = self.dropout(x, training=training)\n",
        "    return self.dense2(x)\n",
        "\n",
        "model = MyModel()"
      ]
    },
    {
      "cell_type": "markdown",
      "metadata": {
        "id": "DeaeZbFcNKsO"
      },
      "source": [
        "### **Defining Layers, Activation Functions & Other Parameters**"
      ]
    },
    {
      "cell_type": "code",
      "execution_count": null,
      "metadata": {
        "id": "WB-NpKE7NokM"
      },
      "outputs": [],
      "source": [
        "import tensorflow as tf\n",
        "from tensorflow import keras\n",
        "from tensorflow.keras.models import Model\n",
        "from tensorflow.keras.layers import Input, Dense"
      ]
    },
    {
      "cell_type": "code",
      "execution_count": null,
      "metadata": {
        "id": "Pq0UPmUuNKXE"
      },
      "outputs": [],
      "source": [
        "inputs = Input(shape=(2,))\n",
        "\n",
        "x = Dense(10, activation='sigmoid', name='Hidden_Layer_1')(inputs)\n",
        "x = Dense(10, activation='sigmoid', name='Hidden_Layer_2')(x)\n",
        "outputs = Dense(2, activation='softmax', name='Output_Layer')(x)\n",
        "\n",
        "model = Model(inputs=inputs, outputs=outputs)"
      ]
    },
    {
      "cell_type": "markdown",
      "metadata": {
        "id": "obfp7KomO5FN"
      },
      "source": [
        "**Example**: **Dense Layer** (https://keras.io/api/layers/core_layers/dense/)\n",
        "\n",
        "![Screenshot 2023-03-09 at 12.48.26 PM.png](data:image/png;base64,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)"
      ]
    },
    {
      "cell_type": "markdown",
      "metadata": {
        "id": "ka4k6V82N0mo"
      },
      "source": [
        "**List of Layers:** https://keras.io/api/layers/\n",
        "\n",
        "**List of Activations:** https://keras.io/api/layers/activations/"
      ]
    },
    {
      "cell_type": "code",
      "execution_count": null,
      "metadata": {
        "colab": {
          "base_uri": "https://localhost:8080/"
        },
        "id": "FJFEWToL8-VA",
        "outputId": "7233b35d-eeec-4bd9-8254-011407d66266"
      },
      "outputs": [
        {
          "name": "stdout",
          "output_type": "stream",
          "text": [
            "Model: \"model_1\"\n",
            "_________________________________________________________________\n",
            " Layer (type)                Output Shape              Param #   \n",
            "=================================================================\n",
            " input_2 (InputLayer)        [(None, 2)]               0         \n",
            "                                                                 \n",
            " Hidden_Layer_1 (Dense)      (None, 10)                30        \n",
            "                                                                 \n",
            " Hidden_Layer_2 (Dense)      (None, 10)                110       \n",
            "                                                                 \n",
            " Output_Layer (Dense)        (None, 2)                 22        \n",
            "                                                                 \n",
            "=================================================================\n",
            "Total params: 162\n",
            "Trainable params: 162\n",
            "Non-trainable params: 0\n",
            "_________________________________________________________________\n"
          ]
        }
      ],
      "source": [
        "model.summary()"
      ]
    },
    {
      "cell_type": "markdown",
      "metadata": {
        "id": "bOQ4J1we2Wr9"
      },
      "source": [
        "## **Compiling the Model**"
      ]
    },
    {
      "cell_type": "markdown",
      "metadata": {
        "id": "1mfZCAwe2gpu"
      },
      "source": [
        "### **Optimizers**"
      ]
    },
    {
      "cell_type": "markdown",
      "metadata": {
        "id": "Zl5Zk04X1o61"
      },
      "source": [
        "*Keras offers various optimization techniques to compile the network. Few are:*\n",
        "\n",
        "*   *SGD, RMSProp, Adagrad, Adam, ..*\n",
        "*   *Whole list: https://keras.io/api/optimizers/*"
      ]
    },
    {
      "cell_type": "code",
      "execution_count": null,
      "metadata": {
        "id": "gUuu3PqUCDBB"
      },
      "outputs": [],
      "source": [
        "from tensorflow.keras.optimizers import Adam, SGD, Adagrad, RMSprop"
      ]
    },
    {
      "cell_type": "code",
      "execution_count": null,
      "metadata": {
        "id": "HKyAlrLc2dSt"
      },
      "outputs": [],
      "source": [
        "sgd_optimizer = SGD(learning_rate=0.001,name='SGD') #Normal Gradient Descent\n",
        "momentum_optimizer = SGD(learning_rate=0.001, momentum=0.8,name='Momentum_SGD') #Momentum Based\n",
        "nag_optimizer = SGD(learning_rate=0.001, nesterov=True, name='NAG') #NAG\n",
        "rms_optimizer = RMSprop(learning_rate=0.001, rho=0.9, momentum=0.0, epsilon=1e-07, name=\"RMSProp\") #RMSProp\n",
        "adagrad_optimizer = Adagrad(learning_rate=0.001, epsilon=1e-07, name=\"Adagrad\") #AdaGrad\n",
        "adam_optimizer = Adam(learning_rate=0.01) #Adam"
      ]
    },
    {
      "cell_type": "markdown",
      "metadata": {
        "id": "oloiFnmYD__T"
      },
      "source": [
        "### **Loss Functions**"
      ]
    },
    {
      "cell_type": "markdown",
      "metadata": {
        "id": "A_NZ_yziEJRb"
      },
      "source": [
        "*Keras offers various predefined popular loss functions.*\n",
        "\n",
        "\n",
        "\n",
        "*   *Mean Squared Error, Binary Cross Entropy, Categorical Cross Entropy, KL Divergence, ...*\n",
        "*   *https://keras.io/api/losses/*"
      ]
    },
    {
      "cell_type": "markdown",
      "metadata": {
        "id": "lCCkQWfJDmhj"
      },
      "source": [
        "### **Compilation**"
      ]
    },
    {
      "cell_type": "code",
      "execution_count": null,
      "metadata": {
        "id": "3z9AFpvW2dP4"
      },
      "outputs": [],
      "source": [
        "model.compile(optimizer=sgd_optimizer, loss='binary_crossentropy', metrics=['accuracy'])"
      ]
    },
    {
      "cell_type": "markdown",
      "metadata": {
        "id": "l_A6Xi6dK1Lu"
      },
      "source": [
        "*More details at: https://keras.io/api/models/model_training_apis/*"
      ]
    },
    {
      "cell_type": "markdown",
      "metadata": {
        "id": "XpFbwSZ-2dwa"
      },
      "source": [
        "## **Fitting the Model**"
      ]
    },
    {
      "cell_type": "markdown",
      "metadata": {
        "id": "PpBaZGYqFJJ2"
      },
      "source": [
        "### **Callbacks**"
      ]
    },
    {
      "cell_type": "markdown",
      "metadata": {
        "id": "Ge3iH8VpFMeH"
      },
      "source": [
        "*A callback is an object that can perform actions at various stages of training (e.g. at the start or end of an epoch, before or after a single batch, etc).*\n",
        "\n",
        "**You can use callbacks to:**\n",
        "\n",
        "*   *Write TensorBoard logs after every batch of training to monitor your metrics*\n",
        "*   *Periodically save your model to disk*\n",
        "*   *Do early stopping*\n",
        "*   *Get a view on internal states and statistics of a model during training*\n",
        "\n",
        "*and much more*"
      ]
    },
    {
      "cell_type": "code",
      "execution_count": null,
      "metadata": {
        "id": "EDrmbYJIG2_8"
      },
      "outputs": [],
      "source": [
        "from tensorflow.keras.callbacks import EarlyStopping, ModelCheckpoint, TensorBoard"
      ]
    },
    {
      "cell_type": "code",
      "execution_count": null,
      "metadata": {
        "id": "o8gxxX3a2jdj"
      },
      "outputs": [],
      "source": [
        "my_callbacks = [\n",
        "   EarlyStopping(monitor='loss', patience=2),\n",
        "    ModelCheckpoint(filepath='model.{epoch:02d}-{val_loss:.2f}.h5'),\n",
        "    TensorBoard(log_dir='./logs')]"
      ]
    },
    {
      "cell_type": "markdown",
      "metadata": {
        "id": "A4IUhRXZGwLP"
      },
      "source": [
        "### **Model Fitting**"
      ]
    },
    {
      "cell_type": "code",
      "execution_count": null,
      "metadata": {
        "colab": {
          "base_uri": "https://localhost:8080/",
          "height": 53
        },
        "id": "BUc7zTGs2jYf",
        "outputId": "e3a449d8-09cf-4775-c783-38dc59607afb"
      },
      "outputs": [
        {
          "data": {
            "application/vnd.google.colaboratory.intrinsic+json": {
              "type": "string"
            },
            "text/plain": [
              "'\\nmodel_fit = model.fit(x=training_set, y=label_set, batch_size=32, epochs=1000, verbose=\"auto\", callbacks=my_callbacks,\\n    validation_split=0.0, validation_data=(input, label), shuffle=True, validation_batch_size=None)\\n'"
            ]
          },
          "execution_count": 32,
          "metadata": {},
          "output_type": "execute_result"
        }
      ],
      "source": [
        "'''\n",
        "model_fit = model.fit(x=training_set, y=label_set, batch_size=32, epochs=1000, verbose=\"auto\", callbacks=my_callbacks,\n",
        "    validation_split=0.0, validation_data=(input, label), shuffle=True, validation_batch_size=None)\n",
        "'''"
      ]
    },
    {
      "cell_type": "markdown",
      "metadata": {
        "id": "VQsKyuBMK_WR"
      },
      "source": [
        "*More details at: https://keras.io/api/models/model_training_apis/*"
      ]
    },
    {
      "cell_type": "markdown",
      "metadata": {
        "id": "b6-3HKxN2m3a"
      },
      "source": [
        "## **Evaluating and Predicting the Model**"
      ]
    },
    {
      "cell_type": "markdown",
      "metadata": {
        "id": "SNV5hutRNSmz"
      },
      "source": [
        "**Evaluate**: *Returns the test accuracy and test loss (if the model has a single output and no metrics)* "
      ]
    },
    {
      "cell_type": "code",
      "execution_count": null,
      "metadata": {
        "id": "PlLxRFGx2bOo"
      },
      "outputs": [],
      "source": [
        "#model.evaluate(x=test_data, y=test_samples, batch_size=None, verbose=\"auto\",callbacks=None)"
      ]
    },
    {
      "cell_type": "markdown",
      "metadata": {
        "id": "b3LruC0DOG5T"
      },
      "source": [
        "More details at: https://keras.io/api/models/model_training_apis/#evaluate"
      ]
    },
    {
      "cell_type": "markdown",
      "metadata": {
        "id": "Agf126DiNn-y"
      },
      "source": [
        "**Predict**: *Generates output predictions for the input samples*\n",
        "\n"
      ]
    },
    {
      "cell_type": "code",
      "execution_count": null,
      "metadata": {
        "id": "e76iYUcC218K"
      },
      "outputs": [],
      "source": [
        "#model.predict(x, batch_size=None, verbose=\"auto\", callbacks=None)"
      ]
    },
    {
      "cell_type": "markdown",
      "metadata": {
        "id": "En5jORdZORmD"
      },
      "source": [
        "More details at: https://keras.io/api/models/model_training_apis/#predict"
      ]
    },
    {
      "cell_type": "markdown",
      "metadata": {
        "id": "eaw0biIl22ki"
      },
      "source": [
        "## **Other Important Basic Stuffs**"
      ]
    },
    {
      "cell_type": "markdown",
      "metadata": {
        "id": "YzSAl8XBOw6c"
      },
      "source": [
        "**Error vs Epoch and Accuracy Plots**"
      ]
    },
    {
      "cell_type": "code",
      "execution_count": null,
      "metadata": {
        "id": "2EJYhwK33JAL"
      },
      "outputs": [],
      "source": [
        "#model_fit.history['loss'] #Returns x (epochs) and y (loss)\n",
        "#model_fit.history['accuracy'] #Returns x (epochs) and y (accuracy)"
      ]
    },
    {
      "cell_type": "markdown",
      "metadata": {
        "id": "jjMcGYe0PHTF"
      },
      "source": [
        "**Saving a model**"
      ]
    },
    {
      "cell_type": "code",
      "execution_count": null,
      "metadata": {
        "id": "Fg6jw59oPHBs"
      },
      "outputs": [],
      "source": [
        "#model.save('path/to/location/myclass_model.h5')"
      ]
    },
    {
      "cell_type": "markdown",
      "metadata": {
        "id": "mrEHUjtgPjAd"
      },
      "source": [
        "**Loading a model**"
      ]
    },
    {
      "cell_type": "code",
      "execution_count": null,
      "metadata": {
        "id": "st57eueePG_Y"
      },
      "outputs": [],
      "source": [
        "#model = keras.models.load_model('path/to/location/myclass_model.h5')"
      ]
    },
    {
      "cell_type": "markdown",
      "metadata": {
        "id": "1_dAPETUP0CX"
      },
      "source": [
        "**Get trained weights**"
      ]
    },
    {
      "cell_type": "code",
      "execution_count": null,
      "metadata": {
        "id": "Rl38k9QQPzwd"
      },
      "outputs": [],
      "source": [
        "for layer in model.layers:\n",
        "    weights = layer.get_weights()"
      ]
    },
    {
      "cell_type": "markdown",
      "metadata": {
        "id": "pzRZ3lyQQ8qQ"
      },
      "source": [
        "**Kernel Initializers**"
      ]
    },
    {
      "cell_type": "code",
      "execution_count": null,
      "metadata": {
        "id": "DCxbEGPv3I8g"
      },
      "outputs": [],
      "source": [
        "initializer = tf.keras.initializers.RandomNormal(mean=0.0, stddev=0.05, seed=None)"
      ]
    },
    {
      "cell_type": "code",
      "execution_count": null,
      "metadata": {
        "id": "5OBWJrYcRZgB"
      },
      "outputs": [],
      "source": [
        "from tensorflow.keras import initializers\n",
        "\n",
        "layer = Dense(64,\n",
        "    kernel_initializer=initializer,\n",
        "    bias_initializer=initializers.Zeros()\n",
        ")"
      ]
    },
    {
      "cell_type": "markdown",
      "metadata": {
        "id": "k7xw10BWSaTB"
      },
      "source": [
        "**Freeze Layers**"
      ]
    },
    {
      "cell_type": "code",
      "execution_count": null,
      "metadata": {
        "id": "9zX4xpbiSZ0z"
      },
      "outputs": [],
      "source": [
        "frozen_layer = Dense(32, trainable=False)"
      ]
    },
    {
      "cell_type": "code",
      "execution_count": null,
      "metadata": {
        "id": "mPpcEMKEcgoZ"
      },
      "outputs": [],
      "source": [
        "model = Sequential([\n",
        "    ResNet50Base(input_shape=(32, 32, 3), weights='pretrained'),\n",
        "    Dense(10),\n",
        "])\n",
        "model.layers[0].trainable = False  # Freeze ResNet50Base.\n",
        "\n",
        "assert model.layers[0].trainable_weights == []  # ResNet50Base has no trainable weights.\n",
        "assert len(model.trainable_weights) == 2  # Just the bias & kernel of the Dense layer.\n",
        "\n",
        "model.compile(...)\n",
        "model.fit(...)  # Train Dense while excluding ResNet50Base."
      ]
    }
  ],
  "metadata": {
    "colab": {
      "collapsed_sections": [
        "2etgsEbuu5w2",
        "3V38BLG8xbiK",
        "cWKnONegzDwE",
        "DgZTA7hWEwxn",
        "4So_v9juI4wT",
        "DeaeZbFcNKsO",
        "bOQ4J1we2Wr9",
        "1mfZCAwe2gpu",
        "oloiFnmYD__T",
        "lCCkQWfJDmhj",
        "XpFbwSZ-2dwa",
        "PpBaZGYqFJJ2",
        "A4IUhRXZGwLP",
        "b6-3HKxN2m3a",
        "eaw0biIl22ki"
      ],
      "provenance": []
    },
    "kernelspec": {
      "display_name": "Python 3",
      "name": "python3"
    },
    "language_info": {
      "name": "python"
    }
  },
  "nbformat": 4,
  "nbformat_minor": 0
}
