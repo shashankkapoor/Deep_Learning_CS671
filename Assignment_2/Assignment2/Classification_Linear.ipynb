{
 "cells": [
  {
   "attachments": {},
   "cell_type": "markdown",
   "metadata": {},
   "source": [
    "#### Mounting Drive\n",
    "\n"
   ]
  },
  {
   "cell_type": "code",
   "execution_count": null,
   "metadata": {},
   "outputs": [],
   "source": [
    "from google.colab import drive\n",
    "drive.mount('/content/drive')"
   ]
  },
  {
   "attachments": {},
   "cell_type": "markdown",
   "metadata": {},
   "source": [
    "#### Importing libraries"
   ]
  },
  {
   "cell_type": "code",
   "execution_count": null,
   "metadata": {},
   "outputs": [],
   "source": [
    "import matplotlib.pyplot as plt\n",
    "from matplotlib.colors import ListedColormap\n",
    "import numpy as np\n",
    "import math"
   ]
  },
  {
   "cell_type": "code",
   "execution_count": null,
   "metadata": {},
   "outputs": [],
   "source": [
    "def logistic(z):\n",
    "   return (1/(1+np.exp(-z)))"
   ]
  },
  {
   "attachments": {},
   "cell_type": "markdown",
   "metadata": {},
   "source": [
    "#### Linear Separable Data"
   ]
  },
  {
   "cell_type": "code",
   "execution_count": null,
   "metadata": {},
   "outputs": [],
   "source": [
    "class_1 = '/content/drive/MyDrive/Deep_learning/Group09_Assignment1/Classification/LS_Group09/Class1.txt'\n",
    "class_2 = '/content/drive/MyDrive/Deep_learning/Group09_Assignment1/Classification/LS_Group09/Class2.txt'\n",
    "class_3 = '/content/drive/MyDrive/Deep_learning/Group09_Assignment1/Classification/LS_Group09/Class3.txt'"
   ]
  },
  {
   "cell_type": "code",
   "execution_count": null,
   "metadata": {},
   "outputs": [],
   "source": [
    "data_class_1 = np.loadtxt(class_1, delimiter=' ', skiprows=0, dtype=str)\n",
    "data_class_2 = np.loadtxt(class_2, delimiter=' ', skiprows=0, dtype=str)\n",
    "data_class_3 = np.loadtxt(class_3, delimiter=' ', skiprows=0, dtype=str)\n",
    "\n",
    "data_class_1=np.insert(data_class_1.astype(float), 0, 1, axis=1)\n",
    "data_class_2=np.insert(data_class_2.astype(float), 0, 1, axis=1)\n",
    "data_class_3=np.insert(data_class_3.astype(float), 0, 1, axis=1)\n",
    "\n",
    "train_c1,val_c1,test_c1=np.split(data_class_1,[int(0.6 * len(data_class_1)),int(0.8 * len(data_class_1))])\n",
    "train_c2,val_c2,test_c2=np.split(data_class_2,[int(0.6 * len(data_class_1)),int(0.8 * len(data_class_1))])\n",
    "train_c3,val_c3,test_c3=np.split(data_class_3,[int(0.6 * len(data_class_1)),int(0.8 * len(data_class_1))])\n"
   ]
  },
  {
   "attachments": {},
   "cell_type": "markdown",
   "metadata": {},
   "source": [
    "#### Plotting linearly separable Data"
   ]
  },
  {
   "cell_type": "code",
   "execution_count": null,
   "metadata": {},
   "outputs": [],
   "source": [
    "fig, ax = plt.subplots(1,3,figsize=(15,4), sharex=True)\n",
    "ax[0].scatter(np.delete(train_c1,[0,2],axis=1) ,np.delete(train_c1,[0,1],axis=1) , color='red', label='class 1')\n",
    "ax[0].scatter(np.delete(train_c2,[0,2],axis=1) ,np.delete(train_c2,[0,1],axis=1), color='blue', label='class 2')\n",
    "ax[0].scatter(np.delete(train_c3,[0,2],axis=1) ,np.delete(train_c3,[0,1],axis=1), color='green', label='class 3')\n",
    "ax[0].legend()\n",
    "ax[0].set_xlabel('X-axis')\n",
    "ax[0].set_ylabel('Y-axis')\n",
    "ax[0].title.set_text(\"linearly separable 60% Training data set\") \n",
    "\n",
    "ax[1].scatter(np.delete(test_c1,[0,2],axis=1) ,np.delete(test_c1,[0,1],axis=1) , color='red', label='class 1')\n",
    "ax[1].scatter(np.delete(test_c2,[0,2],axis=1) ,np.delete(test_c2,[0,1],axis=1), color='blue', label='class 2')\n",
    "ax[1].scatter(np.delete(test_c3,[0,2],axis=1) ,np.delete(test_c3,[0,1],axis=1), color='green', label='class 3')\n",
    "ax[1].legend()\n",
    "ax[1].set_xlabel('X-axis')\n",
    "ax[1].set_ylabel('Y-axis')\n",
    "ax[1].title.set_text(\"linearly separable 20% Validation data set\")\n",
    "\n",
    "ax[2].scatter(np.delete(val_c1,[0,2],axis=1) ,np.delete(val_c1,[0,1],axis=1) , color='red', label='class 1')\n",
    "ax[2].scatter(np.delete(val_c2,[0,2],axis=1) ,np.delete(val_c2,[0,1],axis=1), color='blue', label='class 2')\n",
    "ax[2].scatter(np.delete(val_c3,[0,2],axis=1) ,np.delete(val_c3,[0,1],axis=1), color='green', label='class 3')\n",
    "ax[2].legend()\n",
    "ax[2].set_xlabel('X-axis')\n",
    "ax[2].set_ylabel('Y-axis')\n",
    "ax[2].title.set_text(\"linearly separable 20% Testing data set\")\n",
    "plt.show()\n"
   ]
  }
 ],
 "metadata": {
  "language_info": {
   "name": "python"
  },
  "orig_nbformat": 4
 },
 "nbformat": 4,
 "nbformat_minor": 2
}
